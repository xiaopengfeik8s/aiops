{
 "cells": [
  {
   "cell_type": "markdown",
   "metadata": {},
   "source": [
    "# RAG 运维知识库示例\n",
    "借助 LangChain TextSplitter，我们可以先将 markdown 格式的运维知识库进行拆分，然后进行 Embedding 并存储在本地向量数据库中。当用户提问时，将用户的问题也进行 Embedding，然后通过向量检索的方式找到最相似的知识库内容，并将内容返回给大模型，然后再进行问答。"
   ]
  },
  {
   "cell_type": "code",
   "execution_count": 1,
   "metadata": {},
   "outputs": [
    {
     "name": "stdout",
     "output_type": "stream",
     "text": [
      "\n",
      "\u001b[1m[\u001b[0m\u001b[34;49mnotice\u001b[0m\u001b[1;39;49m]\u001b[0m\u001b[39;49m A new release of pip is available: \u001b[0m\u001b[31;49m23.2.1\u001b[0m\u001b[39;49m -> \u001b[0m\u001b[32;49m24.2\u001b[0m\n",
      "\u001b[1m[\u001b[0m\u001b[34;49mnotice\u001b[0m\u001b[1;39;49m]\u001b[0m\u001b[39;49m To update, run: \u001b[0m\u001b[32;49mpip install --upgrade pip\u001b[0m\n",
      "Requirement already satisfied: chromadb==0.5.3 in /Users/wangwei/.pyenv/versions/3.12.0/lib/python3.12/site-packages (0.5.3)\n",
      "Requirement already satisfied: build>=1.0.3 in /Users/wangwei/.pyenv/versions/3.12.0/lib/python3.12/site-packages (from chromadb==0.5.3) (1.2.1)\n",
      "Requirement already satisfied: requests>=2.28 in /Users/wangwei/.pyenv/versions/3.12.0/lib/python3.12/site-packages (from chromadb==0.5.3) (2.31.0)\n",
      "Requirement already satisfied: pydantic>=1.9 in /Users/wangwei/.pyenv/versions/3.12.0/lib/python3.12/site-packages (from chromadb==0.5.3) (1.10.17)\n",
      "Requirement already satisfied: chroma-hnswlib==0.7.3 in /Users/wangwei/.pyenv/versions/3.12.0/lib/python3.12/site-packages (from chromadb==0.5.3) (0.7.3)\n",
      "Requirement already satisfied: fastapi>=0.95.2 in /Users/wangwei/.pyenv/versions/3.12.0/lib/python3.12/site-packages (from chromadb==0.5.3) (0.111.0)\n",
      "Requirement already satisfied: uvicorn[standard]>=0.18.3 in /Users/wangwei/.pyenv/versions/3.12.0/lib/python3.12/site-packages (from chromadb==0.5.3) (0.30.1)\n",
      "Requirement already satisfied: numpy<2.0.0,>=1.22.5 in /Users/wangwei/.pyenv/versions/3.12.0/lib/python3.12/site-packages (from chromadb==0.5.3) (1.26.4)\n",
      "Requirement already satisfied: posthog>=2.4.0 in /Users/wangwei/.pyenv/versions/3.12.0/lib/python3.12/site-packages (from chromadb==0.5.3) (3.5.0)\n",
      "Requirement already satisfied: typing-extensions>=4.5.0 in /Users/wangwei/.pyenv/versions/3.12.0/lib/python3.12/site-packages (from chromadb==0.5.3) (4.11.0)\n",
      "Requirement already satisfied: onnxruntime>=1.14.1 in /Users/wangwei/.pyenv/versions/3.12.0/lib/python3.12/site-packages (from chromadb==0.5.3) (1.18.1)\n",
      "Requirement already satisfied: opentelemetry-api>=1.2.0 in /Users/wangwei/.pyenv/versions/3.12.0/lib/python3.12/site-packages (from chromadb==0.5.3) (1.26.0)\n",
      "Requirement already satisfied: opentelemetry-exporter-otlp-proto-grpc>=1.2.0 in /Users/wangwei/.pyenv/versions/3.12.0/lib/python3.12/site-packages (from chromadb==0.5.3) (1.26.0)\n",
      "Requirement already satisfied: opentelemetry-instrumentation-fastapi>=0.41b0 in /Users/wangwei/.pyenv/versions/3.12.0/lib/python3.12/site-packages (from chromadb==0.5.3) (0.47b0)\n",
      "Requirement already satisfied: opentelemetry-sdk>=1.2.0 in /Users/wangwei/.pyenv/versions/3.12.0/lib/python3.12/site-packages (from chromadb==0.5.3) (1.26.0)\n",
      "Requirement already satisfied: tokenizers>=0.13.2 in /Users/wangwei/.pyenv/versions/3.12.0/lib/python3.12/site-packages (from chromadb==0.5.3) (0.19.1)\n",
      "Requirement already satisfied: pypika>=0.48.9 in /Users/wangwei/.pyenv/versions/3.12.0/lib/python3.12/site-packages (from chromadb==0.5.3) (0.48.9)\n",
      "Requirement already satisfied: tqdm>=4.65.0 in /Users/wangwei/.pyenv/versions/3.12.0/lib/python3.12/site-packages (from chromadb==0.5.3) (4.66.2)\n",
      "Requirement already satisfied: overrides>=7.3.1 in /Users/wangwei/.pyenv/versions/3.12.0/lib/python3.12/site-packages (from chromadb==0.5.3) (7.7.0)\n",
      "Requirement already satisfied: importlib-resources in /Users/wangwei/.pyenv/versions/3.12.0/lib/python3.12/site-packages (from chromadb==0.5.3) (6.4.0)\n",
      "Requirement already satisfied: grpcio>=1.58.0 in /Users/wangwei/.pyenv/versions/3.12.0/lib/python3.12/site-packages (from chromadb==0.5.3) (1.64.1)\n",
      "Requirement already satisfied: bcrypt>=4.0.1 in /Users/wangwei/.pyenv/versions/3.12.0/lib/python3.12/site-packages (from chromadb==0.5.3) (4.2.0)\n",
      "Requirement already satisfied: typer>=0.9.0 in /Users/wangwei/.pyenv/versions/3.12.0/lib/python3.12/site-packages (from chromadb==0.5.3) (0.12.3)\n",
      "Requirement already satisfied: kubernetes>=28.1.0 in /Users/wangwei/.pyenv/versions/3.12.0/lib/python3.12/site-packages (from chromadb==0.5.3) (29.0.0)\n",
      "Requirement already satisfied: tenacity>=8.2.3 in /Users/wangwei/.pyenv/versions/3.12.0/lib/python3.12/site-packages (from chromadb==0.5.3) (8.4.2)\n",
      "Requirement already satisfied: PyYAML>=6.0.0 in /Users/wangwei/.pyenv/versions/3.12.0/lib/python3.12/site-packages (from chromadb==0.5.3) (6.0.1)\n",
      "Requirement already satisfied: mmh3>=4.0.1 in /Users/wangwei/.pyenv/versions/3.12.0/lib/python3.12/site-packages (from chromadb==0.5.3) (4.1.0)\n",
      "Requirement already satisfied: orjson>=3.9.12 in /Users/wangwei/.pyenv/versions/3.12.0/lib/python3.12/site-packages (from chromadb==0.5.3) (3.10.6)\n",
      "Requirement already satisfied: httpx>=0.27.0 in /Users/wangwei/.pyenv/versions/3.12.0/lib/python3.12/site-packages (from chromadb==0.5.3) (0.27.0)\n",
      "Requirement already satisfied: packaging>=19.1 in /Users/wangwei/.pyenv/versions/3.12.0/lib/python3.12/site-packages (from build>=1.0.3->chromadb==0.5.3) (23.2)\n",
      "Requirement already satisfied: pyproject_hooks in /Users/wangwei/.pyenv/versions/3.12.0/lib/python3.12/site-packages (from build>=1.0.3->chromadb==0.5.3) (1.1.0)\n",
      "Requirement already satisfied: starlette<0.38.0,>=0.37.2 in /Users/wangwei/.pyenv/versions/3.12.0/lib/python3.12/site-packages (from fastapi>=0.95.2->chromadb==0.5.3) (0.37.2)\n",
      "Requirement already satisfied: fastapi-cli>=0.0.2 in /Users/wangwei/.pyenv/versions/3.12.0/lib/python3.12/site-packages (from fastapi>=0.95.2->chromadb==0.5.3) (0.0.4)\n",
      "Requirement already satisfied: jinja2>=2.11.2 in /Users/wangwei/.pyenv/versions/3.12.0/lib/python3.12/site-packages (from fastapi>=0.95.2->chromadb==0.5.3) (3.1.3)\n",
      "Requirement already satisfied: python-multipart>=0.0.7 in /Users/wangwei/.pyenv/versions/3.12.0/lib/python3.12/site-packages (from fastapi>=0.95.2->chromadb==0.5.3) (0.0.9)\n",
      "Requirement already satisfied: ujson!=4.0.2,!=4.1.0,!=4.2.0,!=4.3.0,!=5.0.0,!=5.1.0,>=4.0.1 in /Users/wangwei/.pyenv/versions/3.12.0/lib/python3.12/site-packages (from fastapi>=0.95.2->chromadb==0.5.3) (5.10.0)\n",
      "Requirement already satisfied: email_validator>=2.0.0 in /Users/wangwei/.pyenv/versions/3.12.0/lib/python3.12/site-packages (from fastapi>=0.95.2->chromadb==0.5.3) (2.2.0)\n",
      "Requirement already satisfied: anyio in /Users/wangwei/.pyenv/versions/3.12.0/lib/python3.12/site-packages (from httpx>=0.27.0->chromadb==0.5.3) (3.7.1)\n",
      "Requirement already satisfied: certifi in /Users/wangwei/.pyenv/versions/3.12.0/lib/python3.12/site-packages (from httpx>=0.27.0->chromadb==0.5.3) (2023.11.17)\n",
      "Requirement already satisfied: httpcore==1.* in /Users/wangwei/.pyenv/versions/3.12.0/lib/python3.12/site-packages (from httpx>=0.27.0->chromadb==0.5.3) (1.0.5)\n",
      "Requirement already satisfied: idna in /Users/wangwei/.pyenv/versions/3.12.0/lib/python3.12/site-packages (from httpx>=0.27.0->chromadb==0.5.3) (3.6)\n",
      "Requirement already satisfied: sniffio in /Users/wangwei/.pyenv/versions/3.12.0/lib/python3.12/site-packages (from httpx>=0.27.0->chromadb==0.5.3) (1.3.0)\n",
      "Requirement already satisfied: h11<0.15,>=0.13 in /Users/wangwei/.pyenv/versions/3.12.0/lib/python3.12/site-packages (from httpcore==1.*->httpx>=0.27.0->chromadb==0.5.3) (0.14.0)\n",
      "Requirement already satisfied: six>=1.9.0 in /Users/wangwei/.pyenv/versions/3.12.0/lib/python3.12/site-packages (from kubernetes>=28.1.0->chromadb==0.5.3) (1.16.0)\n",
      "Requirement already satisfied: python-dateutil>=2.5.3 in /Users/wangwei/.pyenv/versions/3.12.0/lib/python3.12/site-packages (from kubernetes>=28.1.0->chromadb==0.5.3) (2.8.2)\n",
      "Requirement already satisfied: google-auth>=1.0.1 in /Users/wangwei/.pyenv/versions/3.12.0/lib/python3.12/site-packages (from kubernetes>=28.1.0->chromadb==0.5.3) (2.29.0)\n",
      "Requirement already satisfied: websocket-client!=0.40.0,!=0.41.*,!=0.42.*,>=0.32.0 in /Users/wangwei/.pyenv/versions/3.12.0/lib/python3.12/site-packages (from kubernetes>=28.1.0->chromadb==0.5.3) (1.7.0)\n",
      "Requirement already satisfied: requests-oauthlib in /Users/wangwei/.pyenv/versions/3.12.0/lib/python3.12/site-packages (from kubernetes>=28.1.0->chromadb==0.5.3) (2.0.0)\n",
      "Requirement already satisfied: oauthlib>=3.2.2 in /Users/wangwei/.pyenv/versions/3.12.0/lib/python3.12/site-packages (from kubernetes>=28.1.0->chromadb==0.5.3) (3.2.2)\n",
      "Requirement already satisfied: urllib3>=1.24.2 in /Users/wangwei/.pyenv/versions/3.12.0/lib/python3.12/site-packages (from kubernetes>=28.1.0->chromadb==0.5.3) (2.2.2)\n",
      "Requirement already satisfied: coloredlogs in /Users/wangwei/.pyenv/versions/3.12.0/lib/python3.12/site-packages (from onnxruntime>=1.14.1->chromadb==0.5.3) (15.0.1)\n",
      "Requirement already satisfied: flatbuffers in /Users/wangwei/.pyenv/versions/3.12.0/lib/python3.12/site-packages (from onnxruntime>=1.14.1->chromadb==0.5.3) (24.3.25)\n",
      "Requirement already satisfied: protobuf in /Users/wangwei/.pyenv/versions/3.12.0/lib/python3.12/site-packages (from onnxruntime>=1.14.1->chromadb==0.5.3) (4.25.3)\n",
      "Requirement already satisfied: sympy in /Users/wangwei/.pyenv/versions/3.12.0/lib/python3.12/site-packages (from onnxruntime>=1.14.1->chromadb==0.5.3) (1.12)\n",
      "Requirement already satisfied: deprecated>=1.2.6 in /Users/wangwei/.pyenv/versions/3.12.0/lib/python3.12/site-packages (from opentelemetry-api>=1.2.0->chromadb==0.5.3) (1.2.14)\n",
      "Requirement already satisfied: importlib-metadata<=8.0.0,>=6.0 in /Users/wangwei/.pyenv/versions/3.12.0/lib/python3.12/site-packages (from opentelemetry-api>=1.2.0->chromadb==0.5.3) (8.0.0)\n",
      "Requirement already satisfied: googleapis-common-protos~=1.52 in /Users/wangwei/.pyenv/versions/3.12.0/lib/python3.12/site-packages (from opentelemetry-exporter-otlp-proto-grpc>=1.2.0->chromadb==0.5.3) (1.63.2)\n",
      "Requirement already satisfied: opentelemetry-exporter-otlp-proto-common==1.26.0 in /Users/wangwei/.pyenv/versions/3.12.0/lib/python3.12/site-packages (from opentelemetry-exporter-otlp-proto-grpc>=1.2.0->chromadb==0.5.3) (1.26.0)\n",
      "Requirement already satisfied: opentelemetry-proto==1.26.0 in /Users/wangwei/.pyenv/versions/3.12.0/lib/python3.12/site-packages (from opentelemetry-exporter-otlp-proto-grpc>=1.2.0->chromadb==0.5.3) (1.26.0)\n",
      "Requirement already satisfied: opentelemetry-instrumentation-asgi==0.47b0 in /Users/wangwei/.pyenv/versions/3.12.0/lib/python3.12/site-packages (from opentelemetry-instrumentation-fastapi>=0.41b0->chromadb==0.5.3) (0.47b0)\n",
      "Requirement already satisfied: opentelemetry-instrumentation==0.47b0 in /Users/wangwei/.pyenv/versions/3.12.0/lib/python3.12/site-packages (from opentelemetry-instrumentation-fastapi>=0.41b0->chromadb==0.5.3) (0.47b0)\n",
      "Requirement already satisfied: opentelemetry-semantic-conventions==0.47b0 in /Users/wangwei/.pyenv/versions/3.12.0/lib/python3.12/site-packages (from opentelemetry-instrumentation-fastapi>=0.41b0->chromadb==0.5.3) (0.47b0)\n",
      "Requirement already satisfied: opentelemetry-util-http==0.47b0 in /Users/wangwei/.pyenv/versions/3.12.0/lib/python3.12/site-packages (from opentelemetry-instrumentation-fastapi>=0.41b0->chromadb==0.5.3) (0.47b0)\n",
      "Requirement already satisfied: setuptools>=16.0 in /Users/wangwei/.pyenv/versions/3.12.0/lib/python3.12/site-packages (from opentelemetry-instrumentation==0.47b0->opentelemetry-instrumentation-fastapi>=0.41b0->chromadb==0.5.3) (69.0.3)\n",
      "Requirement already satisfied: wrapt<2.0.0,>=1.0.0 in /Users/wangwei/.pyenv/versions/3.12.0/lib/python3.12/site-packages (from opentelemetry-instrumentation==0.47b0->opentelemetry-instrumentation-fastapi>=0.41b0->chromadb==0.5.3) (1.16.0)\n",
      "Requirement already satisfied: asgiref~=3.0 in /Users/wangwei/.pyenv/versions/3.12.0/lib/python3.12/site-packages (from opentelemetry-instrumentation-asgi==0.47b0->opentelemetry-instrumentation-fastapi>=0.41b0->chromadb==0.5.3) (3.8.1)\n",
      "Requirement already satisfied: monotonic>=1.5 in /Users/wangwei/.pyenv/versions/3.12.0/lib/python3.12/site-packages (from posthog>=2.4.0->chromadb==0.5.3) (1.6)\n",
      "Requirement already satisfied: backoff>=1.10.0 in /Users/wangwei/.pyenv/versions/3.12.0/lib/python3.12/site-packages (from posthog>=2.4.0->chromadb==0.5.3) (2.2.1)\n",
      "Requirement already satisfied: charset-normalizer<4,>=2 in /Users/wangwei/.pyenv/versions/3.12.0/lib/python3.12/site-packages (from requests>=2.28->chromadb==0.5.3) (3.3.2)\n",
      "Requirement already satisfied: huggingface-hub<1.0,>=0.16.4 in /Users/wangwei/.pyenv/versions/3.12.0/lib/python3.12/site-packages (from tokenizers>=0.13.2->chromadb==0.5.3) (0.23.2)\n",
      "Requirement already satisfied: click>=8.0.0 in /Users/wangwei/.pyenv/versions/3.12.0/lib/python3.12/site-packages (from typer>=0.9.0->chromadb==0.5.3) (8.1.7)\n",
      "Requirement already satisfied: shellingham>=1.3.0 in /Users/wangwei/.pyenv/versions/3.12.0/lib/python3.12/site-packages (from typer>=0.9.0->chromadb==0.5.3) (1.5.4)\n",
      "Requirement already satisfied: rich>=10.11.0 in /Users/wangwei/.pyenv/versions/3.12.0/lib/python3.12/site-packages (from typer>=0.9.0->chromadb==0.5.3) (13.7.1)\n",
      "Requirement already satisfied: httptools>=0.5.0 in /Users/wangwei/.pyenv/versions/3.12.0/lib/python3.12/site-packages (from uvicorn[standard]>=0.18.3->chromadb==0.5.3) (0.6.1)\n",
      "Requirement already satisfied: python-dotenv>=0.13 in /Users/wangwei/.pyenv/versions/3.12.0/lib/python3.12/site-packages (from uvicorn[standard]>=0.18.3->chromadb==0.5.3) (1.0.1)\n",
      "Requirement already satisfied: uvloop!=0.15.0,!=0.15.1,>=0.14.0 in /Users/wangwei/.pyenv/versions/3.12.0/lib/python3.12/site-packages (from uvicorn[standard]>=0.18.3->chromadb==0.5.3) (0.19.0)\n",
      "Requirement already satisfied: watchfiles>=0.13 in /Users/wangwei/.pyenv/versions/3.12.0/lib/python3.12/site-packages (from uvicorn[standard]>=0.18.3->chromadb==0.5.3) (0.22.0)\n",
      "Requirement already satisfied: websockets>=10.4 in /Users/wangwei/.pyenv/versions/3.12.0/lib/python3.12/site-packages (from uvicorn[standard]>=0.18.3->chromadb==0.5.3) (11.0.3)\n",
      "Requirement already satisfied: dnspython>=2.0.0 in /Users/wangwei/.pyenv/versions/3.12.0/lib/python3.12/site-packages (from email_validator>=2.0.0->fastapi>=0.95.2->chromadb==0.5.3) (2.6.1)\n",
      "Requirement already satisfied: cachetools<6.0,>=2.0.0 in /Users/wangwei/.pyenv/versions/3.12.0/lib/python3.12/site-packages (from google-auth>=1.0.1->kubernetes>=28.1.0->chromadb==0.5.3) (5.3.3)\n",
      "Requirement already satisfied: pyasn1-modules>=0.2.1 in /Users/wangwei/.pyenv/versions/3.12.0/lib/python3.12/site-packages (from google-auth>=1.0.1->kubernetes>=28.1.0->chromadb==0.5.3) (0.4.0)\n",
      "Requirement already satisfied: rsa<5,>=3.1.4 in /Users/wangwei/.pyenv/versions/3.12.0/lib/python3.12/site-packages (from google-auth>=1.0.1->kubernetes>=28.1.0->chromadb==0.5.3) (4.9)\n",
      "Requirement already satisfied: filelock in /Users/wangwei/.pyenv/versions/3.12.0/lib/python3.12/site-packages (from huggingface-hub<1.0,>=0.16.4->tokenizers>=0.13.2->chromadb==0.5.3) (3.13.4)\n",
      "Requirement already satisfied: fsspec>=2023.5.0 in /Users/wangwei/.pyenv/versions/3.12.0/lib/python3.12/site-packages (from huggingface-hub<1.0,>=0.16.4->tokenizers>=0.13.2->chromadb==0.5.3) (2024.3.1)\n",
      "Requirement already satisfied: zipp>=0.5 in /Users/wangwei/.pyenv/versions/3.12.0/lib/python3.12/site-packages (from importlib-metadata<=8.0.0,>=6.0->opentelemetry-api>=1.2.0->chromadb==0.5.3) (3.19.2)\n",
      "Requirement already satisfied: MarkupSafe>=2.0 in /Users/wangwei/.pyenv/versions/3.12.0/lib/python3.12/site-packages (from jinja2>=2.11.2->fastapi>=0.95.2->chromadb==0.5.3) (2.1.5)\n",
      "Requirement already satisfied: markdown-it-py>=2.2.0 in /Users/wangwei/.pyenv/versions/3.12.0/lib/python3.12/site-packages (from rich>=10.11.0->typer>=0.9.0->chromadb==0.5.3) (3.0.0)\n",
      "Requirement already satisfied: pygments<3.0.0,>=2.13.0 in /Users/wangwei/.pyenv/versions/3.12.0/lib/python3.12/site-packages (from rich>=10.11.0->typer>=0.9.0->chromadb==0.5.3) (2.17.2)\n",
      "Requirement already satisfied: humanfriendly>=9.1 in /Users/wangwei/.pyenv/versions/3.12.0/lib/python3.12/site-packages (from coloredlogs->onnxruntime>=1.14.1->chromadb==0.5.3) (10.0)\n",
      "Requirement already satisfied: mpmath>=0.19 in /Users/wangwei/.pyenv/versions/3.12.0/lib/python3.12/site-packages (from sympy->onnxruntime>=1.14.1->chromadb==0.5.3) (1.3.0)\n",
      "Requirement already satisfied: mdurl~=0.1 in /Users/wangwei/.pyenv/versions/3.12.0/lib/python3.12/site-packages (from markdown-it-py>=2.2.0->rich>=10.11.0->typer>=0.9.0->chromadb==0.5.3) (0.1.2)\n",
      "Requirement already satisfied: pyasn1<0.7.0,>=0.4.6 in /Users/wangwei/.pyenv/versions/3.12.0/lib/python3.12/site-packages (from pyasn1-modules>=0.2.1->google-auth>=1.0.1->kubernetes>=28.1.0->chromadb==0.5.3) (0.6.0)\n",
      "\n",
      "\u001b[1m[\u001b[0m\u001b[34;49mnotice\u001b[0m\u001b[1;39;49m]\u001b[0m\u001b[39;49m A new release of pip is available: \u001b[0m\u001b[31;49m23.2.1\u001b[0m\u001b[39;49m -> \u001b[0m\u001b[32;49m24.2\u001b[0m\n",
      "\u001b[1m[\u001b[0m\u001b[34;49mnotice\u001b[0m\u001b[1;39;49m]\u001b[0m\u001b[39;49m To update, run: \u001b[0m\u001b[32;49mpip install --upgrade pip\u001b[0m\n"
     ]
    }
   ],
   "source": [
    "! pip install -qU langchain-openai langchain langchain_community langchainhub\n",
    "! pip install chromadb==0.5.3\n",
    "# 设置 OPENAI API KEY\n",
    "# # export OPENAI_API_KEY=sk-..."
   ]
  },
  {
   "cell_type": "code",
   "execution_count": 3,
   "metadata": {},
   "outputs": [],
   "source": [
    "from langchain import hub as langchain_hub\n",
    "from langchain.schema import StrOutputParser\n",
    "from langchain_openai import ChatOpenAI\n",
    "from langchain.schema.runnable import RunnablePassthrough\n",
    "from langchain.text_splitter import MarkdownHeaderTextSplitter\n",
    "from langchain_openai import OpenAIEmbeddings\n",
    "import os\n",
    "#from langchain_chroma import Chroma\n",
    "from langchain_community.vectorstores.chroma import Chroma"
   ]
  },
  {
   "cell_type": "code",
   "execution_count": 21,
   "metadata": {},
   "outputs": [
    {
     "name": "stdout",
     "output_type": "stream",
     "text": [
      "Length of splits: 11\n",
      "[Document(metadata={'Header 1': '支付系统运维知识库', 'Header 2': '1. 系统监控指标'}, page_content='- **交易量**: 监控每秒交易数，确保系统承载能力。\\n- **响应时间**: 监控交易的平均响应时间，确保服务性能。\\n- **系统负载**: 监控CPU、内存等资源使用率，避免资源瓶颈。'), Document(metadata={'Header 1': '支付系统运维知识库', 'Header 2': '2. 常见问题与解决方案', 'Header 3': '2.1 交易失败'}, page_content='- **问题描述**: 用户发起支付后，交易未能成功完成。\\n- **可能原因**:\\n- 网络延迟或中断\\n- 支付网关服务异常\\n- **解决办法**:\\n- 检查网络连接，确保支付服务的网络畅通。\\n- 检查支付网关服务状态，重启服务或联系服务提供商。'), Document(metadata={'Header 1': '支付系统运维知识库', 'Header 2': '2. 常见问题与解决方案', 'Header 3': '2.2 响应时间过长'}, page_content='- **问题描述**: 用户支付请求处理时间超过正常范围。\\n- **可能原因**:\\n- 系统资源不足\\n- 数据库查询效率低下\\n- 外部服务响应慢\\n- **解决办法**:\\n- 增加系统资源，如CPU、内存。\\n- 优化数据库查询，使用索引，减少复杂查询。\\n- 与外部服务提供商沟通，优化接口性能。'), Document(metadata={'Header 1': '支付系统运维知识库', 'Header 2': '2. 常见问题与解决方案', 'Header 3': '2.3 系统宕机'}, page_content='- **问题描述**: 支付系统完全无法访问或服务中断。\\n- **可能原因**:\\n- 主机硬件故障\\n- 系统软件崩溃\\n- 网络设备故障\\n- **解决办法**:\\n- 快速切换到备用服务器。\\n- 检查系统日志，定位问题原因。\\n- 联系硬件供应商，进行故障排查和修复。'), Document(metadata={'Header 1': '支付系统运维知识库', 'Header 2': '2. 常见问题与解决方案', 'Header 3': '2.4 安全问题'}, page_content='- **问题描述**: 检测到异常交易或系统遭受攻击。\\n- **可能原因**:\\n- 账户被盗用\\n- 系统存在安全漏洞\\n- DDoS攻击\\n- **解决办法**:\\n- 立即冻结异常账户，通知用户。\\n- 检查系统安全设置，更新安全补丁。\\n- 启用DDoS防护措施，如流量清洗。'), Document(metadata={'Header 1': '支付系统运维知识库', 'Header 2': '3. 日常运维任务'}, page_content='- **数据备份**: 定期备份数据库和重要文件，确保数据安全。\\n- **系统更新**: 定期更新系统和软件，修复已知漏洞。\\n- **性能调优**: 定期检查系统性能，进行必要的优化。'), Document(metadata={'Header 1': '支付系统运维知识库', 'Header 2': '4. 应急响应流程'}, page_content='- **发现问题**: 监控系统发现异常指标。\\n- **快速响应**: 立即通知运维团队，进行初步诊断。\\n- **问题定位**: 通过日志分析，定位问题原因。\\n- **解决方案**: 根据问题类型，执行相应的解决方案。\\n- **问题解决**: 确认问题解决，恢复正常服务。\\n- **后续跟进**: 记录问题处理过程，进行事后分析和总结。'), Document(metadata={'Header 1': '支付系统运维知识库', 'Header 2': '5. 性能优化建议'}, page_content='- **代码优化**: 定期审查代码，优化算法和逻辑。\\n- **资源扩展**: 根据业务增长，适时扩展系统资源。\\n- **负载均衡**: 使用负载均衡技术，分散请求压力。'), Document(metadata={'Header 1': '支付系统运维知识库', 'Header 2': '6. 安全策略'}, page_content='- **访问控制**: 严格控制系统访问权限，实行最小权限原则。\\n- **数据加密**: 对敏感数据进行加密处理，保护用户隐私。\\n- **安全审计**: 定期进行安全审计，检查潜在的安全风险。'), Document(metadata={'Header 1': '支付系统运维知识库', 'Header 2': '7. 联系方式'}, page_content='- **技术支持**: support@example.com\\n- **紧急联系**: emergency@example.com\\n- **客服热线**: 123-456-7890'), Document(metadata={'Header 1': '支付系统运维知识库', 'Header 2': '8. 业务负责人'}, page_content='- **payment**: 小张，联系方式：18888888888\\n- **payment_gateway**: 小王，联系方式：18888888889\\n- **payment_callback**: 小李，联系方式：18888888890')]\n"
     ]
    }
   ],
   "source": [
    "# 读取 ./data/data.md 文件作为运维知识库\n",
    "file_path = os.path.join('data', 'data.md')\n",
    "with open(file_path, 'r', encoding='utf-8') as file:\n",
    "    docs_string = file.read()\n",
    "\n",
    "# Split the document into chunks base on markdown headers.\n",
    "headers_to_split_on = [\n",
    "    (\"#\", \"Header 1\"),\n",
    "    (\"##\", \"Header 2\"),\n",
    "    (\"###\", \"Header 3\"),\n",
    "]\n",
    "text_splitter = MarkdownHeaderTextSplitter(headers_to_split_on=headers_to_split_on)\n",
    "splits = text_splitter.split_text(docs_string)\n",
    "print(\"Length of splits: \" + str(len(splits)))\n",
    "print(splits)"
   ]
  },
  {
   "cell_type": "code",
   "execution_count": 4,
   "metadata": {},
   "outputs": [
    {
     "name": "stdout",
     "output_type": "stream",
     "text": [
      "None\n"
     ]
    },
    {
     "ename": "ValidationError",
     "evalue": "1 validation error for OpenAIEmbeddings\n__root__\n  Did not find openai_api_key, please add an environment variable `OPENAI_API_KEY` which contains it, or pass `openai_api_key` as a named parameter. (type=value_error)",
     "output_type": "error",
     "traceback": [
      "\u001b[0;31m---------------------------------------------------------------------------\u001b[0m",
      "\u001b[0;31mValidationError\u001b[0m                           Traceback (most recent call last)",
      "Cell \u001b[0;32mIn[4], line 3\u001b[0m\n\u001b[1;32m      1\u001b[0m \u001b[38;5;66;03m# 将运维知识库的每一块文本向量化（Embedding）\u001b[39;00m\n\u001b[1;32m      2\u001b[0m \u001b[38;5;28mprint\u001b[39m(os\u001b[38;5;241m.\u001b[39mgetenv(\u001b[38;5;124m\"\u001b[39m\u001b[38;5;124mOPENAI_API_KEY\u001b[39m\u001b[38;5;124m\"\u001b[39m))\n\u001b[0;32m----> 3\u001b[0m embedding \u001b[38;5;241m=\u001b[39m \u001b[43mOpenAIEmbeddings\u001b[49m\u001b[43m(\u001b[49m\u001b[43mmodel\u001b[49m\u001b[38;5;241;43m=\u001b[39;49m\u001b[38;5;124;43m\"\u001b[39;49m\u001b[38;5;124;43mtext-embedding-3-small\u001b[39;49m\u001b[38;5;124;43m\"\u001b[39;49m\u001b[43m)\u001b[49m\n\u001b[1;32m      4\u001b[0m vectorstore \u001b[38;5;241m=\u001b[39m Chroma\u001b[38;5;241m.\u001b[39mfrom_documents(documents\u001b[38;5;241m=\u001b[39msplits, embedding\u001b[38;5;241m=\u001b[39membedding,persist_directory\u001b[38;5;241m=\u001b[39m\u001b[38;5;124m\"\u001b[39m\u001b[38;5;124m./chroma_langchain_db\u001b[39m\u001b[38;5;124m\"\u001b[39m)\n\u001b[1;32m      5\u001b[0m vectorstore\u001b[38;5;241m.\u001b[39mpersist()\n",
      "File \u001b[0;32m~/.pyenv/versions/3.12.0/lib/python3.12/site-packages/pydantic/v1/main.py:341\u001b[0m, in \u001b[0;36mBaseModel.__init__\u001b[0;34m(__pydantic_self__, **data)\u001b[0m\n\u001b[1;32m    339\u001b[0m values, fields_set, validation_error \u001b[38;5;241m=\u001b[39m validate_model(__pydantic_self__\u001b[38;5;241m.\u001b[39m\u001b[38;5;18m__class__\u001b[39m, data)\n\u001b[1;32m    340\u001b[0m \u001b[38;5;28;01mif\u001b[39;00m validation_error:\n\u001b[0;32m--> 341\u001b[0m     \u001b[38;5;28;01mraise\u001b[39;00m validation_error\n\u001b[1;32m    342\u001b[0m \u001b[38;5;28;01mtry\u001b[39;00m:\n\u001b[1;32m    343\u001b[0m     object_setattr(__pydantic_self__, \u001b[38;5;124m'\u001b[39m\u001b[38;5;124m__dict__\u001b[39m\u001b[38;5;124m'\u001b[39m, values)\n",
      "\u001b[0;31mValidationError\u001b[0m: 1 validation error for OpenAIEmbeddings\n__root__\n  Did not find openai_api_key, please add an environment variable `OPENAI_API_KEY` which contains it, or pass `openai_api_key` as a named parameter. (type=value_error)"
     ]
    }
   ],
   "source": [
    "# 将运维知识库的每一块文本向量化（Embedding）\n",
    "embedding = OpenAIEmbeddings(model=\"text-embedding-3-small\", openai_api_key=\"sk-***\",openai_api_base=\"https://api.apiyi.com/v1\")\n",
    "vectorstore = Chroma.from_documents(documents=splits, embedding=embedding,persist_directory=\"./chroma_langchain_db\")\n",
    "vectorstore.persist()"
   ]
  },
  {
   "cell_type": "code",
   "execution_count": 24,
   "metadata": {},
   "outputs": [
    {
     "name": "stdout",
     "output_type": "stream",
     "text": [
      "* [相似性=0.877543] - **payment**: 小张，联系方式：18888888888\n",
      "- **payment_gateway**: 小王，联系方式：18888888889\n",
      "- **payment_callback**: 小李，联系方式：18888888890 [{'Header 1': '支付系统运维知识库', 'Header 2': '8. 业务负责人'}]\n"
     ]
    }
   ],
   "source": [
    "# 文本相似性检索\n",
    "results = vectorstore.similarity_search_with_score(\n",
    "    \"payment 服务\",\n",
    "    k=1,\n",
    ")\n",
    "for res, score in results:\n",
    "    print(f\"* [相似性={score:3f}] {res.page_content} [{res.metadata}]\")"
   ]
  },
  {
   "cell_type": "code",
   "execution_count": 26,
   "metadata": {},
   "outputs": [
    {
     "name": "stdout",
     "output_type": "stream",
     "text": [
      "* [相似性=1.088376] - **payment**: 小张，联系方式：18888888888\n",
      "- **payment_gateway**: 小王，联系方式：18888888889\n",
      "- **payment_callback**: 小李，联系方式：18888888890 [{'Header 1': '支付系统运维知识库', 'Header 2': '8. 业务负责人'}]\n"
     ]
    }
   ],
   "source": [
    "# 向量检索\n",
    "results = vectorstore.similarity_search_by_vector_with_relevance_scores(\n",
    "    embedding=embedding.embed_query(\"payment 服务是谁维护的？\"), k=1\n",
    ")\n",
    "for doc, score in results:\n",
    "    print(f\"* [相似性={score:3f}] {doc.page_content} [{doc.metadata}]\")"
   ]
  },
  {
   "cell_type": "code",
   "execution_count": 27,
   "metadata": {},
   "outputs": [
    {
     "name": "stdout",
     "output_type": "stream",
     "text": [
      "[0.013615109957754612, -0.03324897587299347, 0.055096786469221115, 0.008762987330555916, -0.004749380052089691, -0.0022156040649861097, -0.015192712657153606, 0.051093120127916336, -0.0065258401446044445, -0.058543648570775986, 0.09248199313879013, 0.004560465458780527, 0.010479790158569813, -0.044384993612766266, -0.025003015995025635, 0.00717212725430727, -0.03065056912600994, 0.03884349763393402, -0.04202521964907646, -0.017632031813263893, 0.003385548945516348, 0.03955938667058945, 0.005349266808480024, -0.01219659298658371, -0.041600991040468216, 0.013654882088303566, -0.04878637194633484, -0.041760075837373734, 0.02243112586438656, -0.0642707422375679, 0.06358136981725693, -0.029749082401394844, 0.05615735799074173, 0.030385425314307213, 0.03810109570622444, -0.002717719180509448, -0.005452009849250317, -0.02961651049554348, 0.017579002305865288, -0.006880469620227814, -0.023067470639944077, -0.05578615888953209, -0.003446863265708089, -0.022736040875315666, -0.006167897023260593, -0.006207668222486973, -0.037305667996406555, -0.003440234810113907, -0.009631332010030746, 0.010870876722037792, 0.0008410015143454075, 0.019037291407585144, 0.024817416444420815, -0.043907735496759415, 0.03624509274959564, 0.03550269082188606, 0.043350934982299805, 0.0270181056112051, 0.01167293544858694, 0.01812254637479782, 0.003095548367127776, -0.006913612596690655, -0.08686095476150513, -0.014132140204310417, -0.032453544437885284, -0.0011194020044058561, -0.05504375696182251, 0.019222890958189964, -0.025599589571356773, -0.0056177242659032345, 0.005876239389181137, 0.021887581795454025, 0.014105625450611115, -0.022696269676089287, 0.018613062798976898, -0.01304505206644535, 0.021224724128842354, 0.01834791898727417, 0.010333961807191372, -0.005846410524100065, 0.007370984647423029, -0.02664690464735031, -0.03717309609055519, -0.0023813184816390276, -0.01682334393262863, 0.010042304173111916, -0.08691398799419403, 0.030014226213097572, -0.02286861278116703, 0.05236580967903137, 0.023186784237623215, 0.05228626728057861, -0.03547617793083191, 0.022364839911460876, 0.020416036248207092, -0.05196809396147728, -0.010386990383267403, 0.01661122962832451, 0.030491484329104424, 0.00580001063644886, -0.012653965502977371, -0.045021336525678635, -0.0456576831638813, -0.02175500988960266, 0.0024824044667184353, -0.0094324741512537, -0.013893511146306992, -0.00257189036346972, -0.034680746495723724, 0.006973269861191511, -0.04693036898970604, 0.010758190415799618, -0.005488466937094927, -0.032374002039432526, 0.05483164265751839, 0.04613494127988815, -0.0321618877351284, -0.010227903723716736, -0.028449879959225655, -0.02501627430319786, -0.037199608981609344, 0.0484151728451252, 0.0020581751596182585, -0.0035164635628461838, 0.045869797468185425, -0.010042304173111916, -0.03555572032928467, -0.019037291407585144, -0.041309330612421036, -0.026076847687363625, 0.041123732924461365, -0.04115024581551552, 0.01931569166481495, -0.030252855271100998, 0.006383325904607773, 0.006900355219841003, -0.02220575511455536, 0.013959796167910099, -0.041017673909664154, -0.022881869226694107, 0.04711597040295601, -0.01252802275121212, 0.003668920835480094, 0.009001616388559341, -0.014914312399923801, -0.09142142534255981, -0.027256734669208527, -0.026288961991667747, -0.03346109017729759, -0.027707478031516075, -0.06957361102104187, -0.03046496957540512, -0.008782872930169106, 0.04528648033738136, -0.054062727838754654, 0.004305264912545681, 0.03046496957540512, 0.03995710238814354, -0.023001184687018394, 0.06808880716562271, -0.08123991638422012, -0.011606649495661259, -0.025122331455349922, -0.017711574211716652, 0.005422180984169245, 0.012680480256676674, -0.0058828676119446754, -0.05090751871466637, -0.010300818830728531, -0.007039555348455906, -0.004944923333823681, -0.0016571457963436842, -0.008809387683868408, 0.029855139553546906, -0.004676465410739183, -0.02313375659286976, 0.03611252084374428, -0.024048499763011932, -0.00028875767020508647, -0.0423964187502861, -0.003004405414685607, -0.006595440674573183, 0.03436257690191269, -0.012189964763820171, -0.02639501914381981, 0.019209634512662888, -0.01201099343597889, 0.05233929306268692, -0.03322245925664902, 0.05689975991845131, -0.040195729583501816, 0.01913009211421013, 0.05456649884581566, 0.02464507333934307, -0.0349193774163723, -0.008637044578790665, -0.015404827892780304, -0.04191916063427925, -0.006373383104801178, 0.003403777489438653, -0.02361101470887661, 0.003092234255746007, 0.02860896661877632, 0.011706078425049782, 0.0036026351153850555, -0.007397498935461044, -0.021701982244849205, -0.03279823064804077, 0.01339636743068695, -0.03690795227885246, 0.033858802169561386, -0.0072980704717338085, 0.008736472576856613, 0.03295731544494629, -0.04685082659125328, 0.022006897255778313, 0.02194061130285263, 0.006201039534062147, 0.0004128364671487361, -0.004656579811125994, 0.0021344039123505354, -0.0030093768145889044, 0.03221491351723671, 0.05408924072980881, 0.02008460834622383, 0.05271049588918686, 0.027177192270755768, 0.014954084530472755, -0.01653168722987175, -0.05159689486026764, 0.0036357780918478966, 0.021556153893470764, -0.01950129307806492, 0.010082075372338295, -0.04430545121431351, -0.01764528825879097, -0.07477042078971863, 0.021728496998548508, 0.03820715472102165, -0.011421049013733864, 0.007868128828704357, -0.0037517782766371965, -0.050721921026706696, 0.004991323221474886, 0.0007639442337676883, -0.008298986591398716, 0.003070691367611289, -0.009280016645789146, 0.03285126015543938, -0.014026082120835781, -0.0007382584735751152, 0.006986526772379875, 0.009140816517174244, -0.02868850901722908, -0.020508836954832077, 0.018652833998203278, 0.05631644278764725, -0.005896124988794327, 0.04069950059056282, -0.0021824610885232687, 0.00626401137560606, -0.0005253152339719236, -0.04191916063427925, -0.04897197335958481, -0.00949213095009327, -0.01927592046558857, -0.0020764037035405636, -0.016743801534175873, -0.001831146189942956, 0.04685082659125328, 0.02398221381008625, 0.010188132524490356, 0.02553330361843109, 0.00011258234735578299, 0.005452009849250317, 0.04759322851896286, -0.00016188243171200156, -0.028423365205526352, -0.018507005646824837, 0.028661994263529778, -0.07031600922346115, -0.027256734669208527, -0.01838769018650055, -4.539026122074574e-05, 0.0062142969109117985, 0.05446043983101845, 0.0075433277525007725, 0.0011450877645984292, -0.01649191603064537, 0.02371707186102867, 0.01834791898727417, 0.0016008028760552406, -0.019580835476517677, -0.011069734580814838, 0.03658977895975113, 0.002525490242987871, 0.02738930657505989, -0.022842098027467728, -0.014543112367391586, 2.217727160314098e-05, 0.0386844128370285, 0.0643237754702568, -0.09619399905204773, -0.005737038794904947, -0.06496011465787888, 0.007914528250694275, -0.008961845189332962, 0.0034932633861899376, -0.03918818384408951, -0.0133831100538373, 0.005677381530404091, -0.026554105803370476, -0.0005290437838993967, -0.00849121529608965, 0.0011724306968972087, -0.028370337560772896, 0.014026082120835781, -0.04966134577989578, -0.02505604550242424, -0.11602672189474106, 0.02150312438607216, -0.01167293544858694, -0.051915064454078674, 0.01731386035680771, 0.0072980704717338085, -0.03613903746008873, 0.0080404719337821, -0.007934413850307465, -0.046612199395895004, 0.018692605197429657, 0.021715238690376282, 0.002146003767848015, 0.04658568277955055, -0.05223323777318001, -0.0010580875677987933, 0.009697617031633854, 0.011924821883440018, 0.0045869797468185425, -0.014118882827460766, -0.028290793299674988, -0.009551788680255413, -0.04525996744632721, -0.04014270007610321, -0.004835551604628563, -0.00630046846345067, -0.004557150881737471, 0.017711574211716652, 0.017433173954486847, 0.012607565149664879, 0.061884455382823944, 0.01384048257023096, 0.025957532227039337, -0.008656930178403854, 0.008352015167474747, -0.018281633034348488, 0.06814184039831161, 0.05390363931655884, -0.01775134541094303, -0.04173355922102928, -0.0037219496443867683, -0.0034104061778634787, 0.009942875243723392, 0.028264280408620834, -0.005524924024939537, -0.009863331913948059, 0.057960331439971924, -0.04812351614236832, 0.030942227691411972, 0.014728711917996407, -0.0344686321914196, -0.04059344530105591, 0.045763738453388214, 0.019885750487446785, -0.007702413946390152, -0.03857835382223129, -0.009551788680255413, 0.03102177008986473, 0.029298339039087296, 0.001391173922456801, -0.06416469067335129, 0.021330781280994415, 0.01075156219303608, 0.039347272366285324, 0.012912480160593987, 0.04040784388780594, 0.03568829223513603, -0.011361392214894295, 0.006595440674573183, 0.03324897587299347, -0.03709355369210243, 0.0037153209559619427, -0.02635524794459343, -0.013787453062832355, -0.02646130509674549, 0.03046496957540512, -0.005720467306673527, 0.011739221401512623, 0.003117091255262494, 0.00046897228457964957, 0.007596356328576803, 0.05907393619418144, -0.00950538832694292, -0.00566081004217267, 0.014079110696911812, -0.02935136668384075, 0.03250657394528389, -0.028476394712924957, -0.05241883918642998, -0.0162797998636961, -0.02961651049554348, 0.04817654564976692, 0.010181504301726818, 0.03343457356095314, 0.0349193774163723, -0.01034059002995491, -0.029643025249242783, -0.005166980903595686, -0.016213515773415565, 0.06204354017972946, 0.01350905280560255, 0.023213298991322517, 0.023770099505782127, -0.0025536618195474148, -0.032824743539094925, 0.0032612630166113377, -0.015378313139081001, -0.013190881349146366, -0.020429294556379318, -0.0053393240086734295, -0.032374002039432526, 0.028980165719985962, 0.009266759268939495, -0.07121749967336655, -0.013025166466832161, -0.0069334981963038445, -0.03884349763393402, 0.05159689486026764, -0.012925737537443638, -0.04738111421465874, -0.009386073797941208, 0.017738088965415955, -0.012779909186065197, -0.023451928049325943, -0.009565046057105064, 0.0423433892428875, -0.017061972990632057, 0.006781040690839291, 0.011129391379654408, 0.03253308683633804, 9.399124246556312e-05, 0.023478442803025246, 0.006751212291419506, 0.02868850901722908, -0.0006864726892672479, -0.05347941070795059, -0.01849374733865261, -0.003967206925153732, 0.05721793323755264, -0.03147251531481743, -0.03308988735079765, 0.017618775367736816, 0.013018537312746048, -0.00011807164264610037, 0.025109073147177696, 0.045312996953725815, -0.025148846209049225, -0.04061995819211006, -0.006409840192645788, -0.019673636183142662, 0.004769265651702881, -0.017936946824193, 0.0391351580619812, -0.03950635716319084, -0.044835738837718964, -0.031896743923425674, -0.037862468510866165, -0.07015692442655563, 0.0009478874271735549, -0.03502543643116951, -0.06570252031087875, -0.019143348559737206, -0.0056376103311777115, -0.05636947229504585, -0.016743801534175873, 0.023915929719805717, 0.10754213482141495, 0.02951045334339142, 0.023080727085471153, -0.013277052901685238, 0.0018328033620491624, 0.02664690464735031, 0.024817416444420815, 0.06639189273118973, -0.015060141682624817, -0.03343457356095314, 0.023703813552856445, -0.0129191093146801, -0.04422590881586075, -0.041388873010873795, 0.025599589571356773, -0.016107456758618355, 0.010778076946735382, -0.004338407889008522, -0.03783595561981201, 0.00606846809387207, 0.01834791898727417, -0.005813267547637224, 0.016041172668337822, -0.008610529825091362, -0.054168783128261566, 0.020919809117913246, 0.03539663553237915, -0.0172343160957098, -0.03499891981482506, -0.03290428966283798, -0.0006065153866074979, 0.04865380376577377, 0.021887581795454025, -0.043907735496759415, -0.003811435541138053, 0.005693953018635511, -0.011991106905043125, 0.0772627666592598, -0.017738088965415955, -0.002866862341761589, -0.02598404698073864, -0.05907393619418144, 0.0012702023377642035, -0.026885533705353737, -0.020429294556379318, 0.01923614926636219, -0.05337335169315338, 0.010095332749187946, 0.02198038250207901, 0.03932075574994087, 0.008245958015322685, 0.01115590613335371, -0.03147251531481743, -0.002296804217621684, -0.011301734484732151, -0.0037617210764437914, -0.006853955332189798, -0.00450412230566144, 0.003546292195096612, 0.017658546566963196, -0.015020369552075863, -0.021675467491149902, 0.003993721678853035, 0.0027525192126631737, 0.01019476167857647, 0.028370337560772896, -0.015656713396310806, -0.036006465554237366, 0.006615326274186373, 0.026673419401049614, -0.03009376861155033, 0.01935546286404133, -0.024790901690721512, 0.0024592045228928328, 0.0037816069088876247, -0.007145612966269255, 0.05647553130984306, 0.03176417201757431, -0.02776050753891468, -0.03521103411912918, -0.016889629885554314, 0.010135103948414326, 0.00012231807340867817, -0.04685082659125328, -0.01161990687251091, -0.01076481956988573, 0.05705884471535683, -0.022139469161629677, 0.015046884305775166, 0.020336493849754333, 0.04099116101861, 0.006008810829371214, -0.04154796153306961, 0.02416781522333622, 0.016597973182797432, -0.009850074537098408, -0.001256945077329874, 0.014887798577547073, 0.01690288819372654, 0.008106757886707783, 0.017221059650182724, 0.009014873765408993, 0.020787237212061882, -0.01208390761166811, 0.003745149588212371, 0.01122882030904293, 0.018507005646824837, -0.0018758891383185983, -0.01838769018650055, -0.0003908792859874666, -0.01716803014278412, 0.014582883566617966, 0.020336493849754333, 0.007337841670960188, -0.005157038103789091, 0.0029580052942037582, 0.016041172668337822, -0.027813535183668137, 0.026593877002596855, 0.03751778230071068, 0.020694436505436897, 0.010791333392262459, -0.0011964592849835753, 0.0033706347458064556, 0.023107241839170456, 0.03083617053925991, -0.00891544483602047, 0.014012825675308704, 0.016876373440027237, -0.007158869877457619, 0.01434425450861454, -0.04340396448969841, -0.02369055710732937, -0.041017673909664154, 0.04340396448969841, 0.020601637661457062, 0.0022321755532175303, 0.0016331172082573175, -0.015656713396310806, -0.0015345170395448804, 0.01570974290370941, -0.021078895777463913, 0.013224023394286633, -0.045949339866638184, 0.01110287755727768, -0.020150894299149513, 0.013575338758528233, 0.016478657722473145, -0.01475522667169571, 0.010744933970272541, 0.0013422881020233035, 0.02642153389751911, -0.02282884158194065, 0.029086224734783173, -0.041866131126880646, -0.012932365760207176, 0.002837033709511161, -0.005756924860179424, -0.01901077665388584, 0.05939210578799248, -0.023067470639944077, -0.03184371441602707, 0.017022201791405678, 0.060399651527404785, 5.6757246056804433e-05, -0.007351099047809839, -0.04356304928660393, -0.006602068897336721, -0.03483983501791954, -8.705194341018796e-05, 0.0034568062983453274, 0.00950538832694292, 0.021145181730389595, 0.005978982429951429, 0.027601420879364014, -0.020548608154058456, 0.03141948580741882, -0.004394750576466322, 0.023451928049325943, 0.012282765470445156, 0.003629149403423071, 0.003917492926120758, -0.02005809359252453, 0.024883702397346497, 0.002394575858488679, -0.026302218437194824, 0.040195729583501816, 0.011845278553664684, 0.029881654307246208, -0.004762636963278055, -0.004345036577433348, 0.009717503562569618, -0.04443802312016487, 0.011991106905043125, 0.042528990656137466, -0.005432124249637127, 0.007079327013343573, -0.03221491351723671, -0.0038710928056389093, 0.01343613862991333, -0.00444777961820364, 0.016067685559391975, -0.001849374733865261, 0.00012200736091472208, -0.0298021100461483, -0.006151325535029173, 0.028476394712924957, 0.030491484329104424, 0.0032629200723022223, 0.002092975191771984, 0.014330997131764889, -0.01938197761774063, -0.00893533043563366, 0.007066070102155209, 0.04454408213496208, -0.01080459076911211, -0.010625619441270828, 0.025148846209049225, -0.0188649483025074, -0.04738111421465874, 0.012634079903364182, -0.0016952601727098227, 0.014954084530472755, 0.002328289905562997, -0.012680480256676674, -0.013893511146306992, -0.019024034962058067, -0.009651217609643936, 0.019541064277291298, 0.002416118746623397, 0.03377925977110863, 0.008259214460849762, -0.004451093729585409, 0.019726663827896118, -0.018560033291578293, 0.008298986591398716, 0.05371803790330887, 0.01572299934923649, -0.046240996569395065, -0.000270736200036481, -0.010811219923198223, -0.016001399606466293, 0.015457856468856335, -0.010870876722037792, 0.022046668455004692, -0.04629402607679367, -0.011275220662355423, 0.010970305651426315, 0.013641624711453915, 0.011586763896048069, -0.0037252637557685375, -0.0017052030889317393, -0.007914528250694275, -0.06098296865820885, -0.024326901882886887, -0.04608191177248955, 0.01165967807173729, 0.013542195782065392, -0.015391570515930653, 0.02123798057436943, 0.009014873765408993, -0.004855437204241753, 0.02024369314312935, -0.02383638545870781, 0.017181288450956345, 0.02571890316903591, 0.01124870590865612, 0.04600236937403679, -0.0026680047158151865, -0.02449924498796463, -0.028449879959225655, -0.011202305555343628, 0.005544810090214014, -0.004129607230424881, 0.04589631035923958, 0.007483670487999916, 0.023783357813954353, -0.013190881349146366, 0.013170994818210602, 0.031790684908628464, -0.0181623175740242, -0.03921470046043396, -0.0037716638762503862, 0.04724854230880737, -0.020031578838825226, -0.007675899658352137, -0.009001616388559341, 0.018878204748034477, 0.030491484329104424, 0.006290525663644075, -0.001064716256223619, 0.0081531573086977, -0.04966134577989578, -0.0005804153042845428, -0.008789501152932644, 0.006343554239720106, 0.0075300708413124084, 0.026050332933664322, -0.017061972990632057, -0.0344686321914196, 0.02313375659286976, 0.0018228604458272457, -0.010632247664034367, -0.0044444650411605835, -0.006698183715343475, -0.023703813552856445, -0.010208018124103546, -0.029643025249242783, -0.000406829291023314, -0.027362791821360588, -0.006482754368335009, -0.0251621026545763, -0.025334445759654045, -0.01028756145387888, -0.00562435295432806, 0.021781524643301964, 0.014079110696911812, -0.0065258401446044445, 0.04011618718504906, 0.035900406539440155, 0.020959580317139626, -0.010512933135032654, 0.046240996569395065, 0.019063806161284447, -0.03362017497420311, -0.019037291407585144, 0.05456649884581566, -0.003433606121689081, -0.002336575649678707, 0.005766867659986019, -0.006164582446217537, -0.011725964024662971, -0.03507846221327782, -0.0470099151134491, -3.2909880246734247e-05, 0.0698917806148529, -0.01254790835082531, -0.010214647278189659, 0.010227903723716736, -0.013933282345533371, -0.016995687037706375, -0.020628152415156364, -0.016226772218942642, -0.0023166898172348738, 0.034786805510520935, 0.03611252084374428, 0.0078084710985422134, 0.027336277067661285, -0.02030997909605503, 0.023173527792096138, 0.03555572032928467, -0.030571026727557182, -0.042316876351833344, -0.03449514880776405, -0.02587798982858658, 0.005408924072980881, -0.03507846221327782, -0.015815800055861473, -0.016213515773415565, -0.013721168041229248, -0.01789717562496662, 0.009280016645789146, -0.05255140736699104, 0.006376697216182947, -0.0121037932112813, -0.019845979288220406, -0.01934220641851425, -0.023147013038396835, 0.01983272098004818, 0.022921640425920486, -0.00042340075015090406, -0.02631547674536705, -0.034309547394514084, -0.006598754785954952, -0.023080727085471153, -0.01570974290370941, -0.004036807455122471, 0.002288518473505974, -0.029669540002942085, 0.046240996569395065, -0.00740412762388587, 0.0019720036070793867, 0.024737874045968056, 0.013270423747599125, -0.019766435027122498, 0.006499325856566429, 0.0017350317211821675, -0.002779033500701189, -0.0419456772506237, 0.016876373440027237, 0.03438908979296684, -0.027627935633063316, 0.009624702855944633, -0.006094982381910086, -0.002626576228067279, 0.03279823064804077, -0.021781524643301964, -0.029589995741844177, -0.0031270342878997326, -0.0053724669851362705, 0.036377664655447006, -0.031154341995716095, 0.028980165719985962, 0.02097283862531185, -0.021304266527295113, -0.012680480256676674, 0.058914847671985626, 0.038604870438575745, -0.00694012688472867, -0.0015013741794973612, -0.0007535870536230505, 0.008557501249015331, 0.047062940895557404, -0.02412804402410984, 0.004401379264891148, -0.001870917621999979, -0.007967556826770306, -0.03669583797454834, -0.004643322434276342, -0.01760551705956459, 0.0007080155774019659, -0.015152941457927227, -0.020469065755605698, -0.020999351516366005, 0.03603297844529152, -0.0006906155031174421, -0.007351099047809839, 0.02205992490053177, -0.02076072245836258, 0.05159689486026764, -0.014264711178839207, 0.008318872191011906, 0.0102477902546525, -0.011010076850652695, 0.016584714874625206, -0.0005178580759093165, 0.004626751411706209, -0.04218430444598198, -0.03969195857644081, 0.005193495191633701, 0.013402995653450489, -0.004026864189654589, 0.018745634704828262, -0.012501507997512817, -0.02953696809709072, 0.018878204748034477, 0.004958180245012045, -0.0033292060252279043, 0.019806206226348877, -0.0011964592849835753, -0.005465267226099968, -0.005740353371948004, -0.004779208451509476, -0.021728496998548508, -0.028715023770928383, 0.026819247752428055, 0.005256466567516327, -0.01935546286404133, 0.006784355267882347, -0.005690638907253742, -0.01568322815001011, 0.0007784442859701812, -0.025891246274113655, -0.011745849624276161, -0.023027699440717697, 0.021622439846396446, -0.05652856081724167, -0.014317739754915237, -0.051358263939619064, 0.02850290946662426, 0.026341989636421204, 0.015338541939854622, 0.0036888066679239273, 0.014569626189768314, -0.01849374733865261, 0.011991106905043125, -0.023186784237623215, -0.01779111847281456, 0.0031402914319187403, -0.013482538983225822, -0.014410540461540222, -0.030517997220158577, 0.021105408668518066, 0.0052299522794783115, -0.013933282345533371, -0.027813535183668137, 0.03494589030742645, -0.04449105262756348, 0.03062405437231064, 0.002528804587200284, 0.027972621843218803, 0.026567362248897552, 0.012203222140669823, 0.015431341715157032, 0.01838769018650055, 0.019249405711889267, 0.036006465554237366, 0.027733992785215378, -0.01572299934923649, -0.017486203461885452, 0.00018062889284919947, 0.004185950383543968, 0.022470897063612938, -0.011381277814507484, 0.0013779167784377933, 0.034680746495723724, 0.0018990890821442008, 0.01161990687251091, -0.0043350933119654655, 0.008590644225478172, 0.0011790592689067125, -0.024114785715937614, 0.020323237404227257, 0.0258382186293602, 0.03932075574994087, 0.018321404233574867, -0.04250247776508331, -0.018228603526949883, -0.022232268005609512, -0.007947671227157116, 0.0349193774163723, -0.010546076111495495, -0.0037153209559619427, -0.01392002496868372, -0.030862683430314064, -0.020495580509305, -0.025334445759654045, -2.0507179215201177e-05, 0.014132140204310417, 0.029457423835992813, 0.01397305354475975, 0.010565961711108685, 0.003987092990428209, 0.0021062323357909918, -0.009956132620573044, 0.008716586977243423, 0.015802543610334396, -0.02905970998108387, -0.037862468510866165, -0.012607565149664879, -0.033567145466804504, 0.035423148423433304, -0.004765951540321112, 0.010897391475737095, 0.0019189749145880342, -0.0035264063626527786, -0.002031660871580243, 0.01738014630973339, 0.029483938589692116, 0.013369852676987648, 0.02220575511455536, -0.02439318597316742, -0.009995903819799423, 0.05082797631621361, -0.004142864607274532, -0.012057392857968807, 0.03725263848900795, -0.00933967437595129, -0.007059441413730383, 0.02765445038676262, 0.013482538983225822, 0.039718471467494965, 0.005869610700756311, 0.04552511125802994, -0.01578928530216217, 0.01043338980525732, -0.005985610652714968, -0.003193320007994771, -0.02802565135061741, -0.029033195227384567, -0.030703598633408546, 0.0029596625827252865, -0.009757274761795998, -0.01167293544858694, 0.025811703875660896, 0.012932365760207176, -0.010904019698500633, 0.011162534356117249, 0.003549606306478381, 0.014821512624621391, -0.001300859497860074, -0.07180081307888031, 0.0005394009640440345, -0.0059491535648703575, -0.027442336082458496, -0.01987249217927456, 0.011414420790970325, 0.01601465791463852, -0.011765735223889351, 0.04677128419280052, -0.011719335801899433, -0.046612199395895004, -0.04626751318573952, 0.003004405414685607, 0.005727095995098352, -0.0027740621007978916, 0.02038952335715294, 0.0008965159067884088, 0.002971262438222766, 0.0013050023699179292, -0.03017331101000309, 0.01354882400482893, 0.02553330361843109, 0.025453759357333183, -0.019408492371439934, 0.020416036248207092, -0.01258767955005169, 0.0014773454749956727, 0.01582905650138855, -0.010188132524490356, -0.00628389697521925, -0.0033905203454196453, 0.03409743309020996, 0.04276762157678604, 0.012945623137056828, 0.011348134838044643, -0.0019189749145880342, -0.03743823990225792, 0.023518214002251625, -0.0020482323598116636, 0.013999568298459053, 0.004659893922507763, 0.033116403967142105, 0.01857328973710537, -0.027707478031516075, 0.019116833806037903, -0.008093500509858131, 0.03388531878590584, 0.007689156569540501, -0.004722865764051676, 0.005574638489633799, 0.014118882827460766, 0.047062940895557404, -0.014185168780386448, -0.000835615792311728, -0.009737389162182808, 0.017857404425740242, 0.015245742164552212, 0.02757490612566471, 0.0010448304237797856, 0.011182419955730438, -0.029271824285387993, 0.0031585199758410454, 0.0258382186293602, -0.008802758529782295, -0.0014616026310250163, 0.006535783410072327, 0.042422935366630554, -0.020402779802680016, -0.002939776750281453, -0.02227204106748104, -0.01304505206644535, 0.011653049848973751, -0.05019163340330124, 0.007079327013343573, -0.007119098678231239, 0.0015030312351882458, -0.018772147595882416, 0.010758190415799618, 0.02020392194390297, -0.011427678167819977, -0.053691525012254715, 0.062255654484033585, 0.010221275500953197, 0.06416469067335129, -0.001428459770977497, 0.015656713396310806, 0.008232700638473034, 0.005120580550283194, -0.006539097521454096, -0.002782347844913602, 0.007132355589419603, -0.04417287930846214, 0.02243112586438656, -0.02053535170853138, -0.03436257690191269, 0.015802543610334396, -0.002369718626141548, 0.006721383426338434, -0.013482538983225822, -0.04518042504787445, 0.023253070190548897, -0.02860896661877632, -0.02705787681043148, -0.004388122353702784, -0.0032794915605336428, 0.01041350420564413, -0.02245764061808586, -0.01388025376945734, -0.011049848049879074, 0.0009039730648510158, 0.024141300469636917, 0.002754176501184702, 0.006482754368335009, -0.025705646723508835, 0.01931569166481495, 0.038233667612075806, -0.015471113845705986, -0.005233266390860081, -0.010579219087958336, 0.003244691528379917, -0.022179240360856056, -0.0038246926851570606, -0.0003548363456502557, -0.023067470639944077, 0.021622439846396446, 0.0018874891102313995, -0.011586763896048069, -0.029961196705698967, -0.0048521230928599834, 0.006602068897336721, 0.0006848155171610415, 0.010976933874189854, 0.020495580509305, -0.005727095995098352, -0.02146335318684578, 0.0038677784614264965, -0.0009934589033946395, -0.024326901882886887, -0.006704811938107014, 0.024366673082113266, 0.005137152038514614, -0.007271556183695793, -0.045312996953725815, 0.019912265241146088, -0.011142648756504059, 0.0007129869773052633, -0.010725048370659351, -0.013290309347212315, 0.018507005646824837, 0.007430641911923885, 0.00813327170908451, -0.012846194207668304, 0.036192066967487335, 0.013018537312746048, -0.006820812355726957, 0.028529422357678413, -0.0009346302831545472, 0.0162797998636961, -0.0022156040649861097, -0.017592260614037514, -0.02943091094493866, 0.037676867097616196, 0.01425145473331213, 0.027919592335820198, 0.02569238841533661, -0.006134754046797752, -0.02109215222299099, -0.013813967816531658, 0.025785189121961594, 0.00023200041323434561, -0.0011815449688583612, -0.009903103113174438, 0.010101960971951485, 0.0028420051094144583, 0.017353631556034088, -0.0009437445551156998, 0.026156390085816383, -0.028847595676779747, 0.02728324942290783, 0.03173765540122986, -0.0024426330346614122, -0.008703329600393772, -0.0075300708413124084, -0.028821080923080444, 0.00037720781983807683, 0.015418085269629955, -0.015855571255087852, 0.009976018220186234, 0.029828624799847603, -0.007251670118421316, 0.01727408915758133, 0.003993721678853035, -0.03433606028556824, 0.005398981273174286, -0.0035065205302089453, 0.026143133640289307, 0.004285379312932491, 0.011918192729353905, 0.038048069924116135, 0.004046750254929066, -0.0036059494595974684, 0.004818980116397142, -0.02427387237548828, -0.007821728475391865, 0.0031237199436873198, -0.008729844354093075, 0.010957048274576664, 0.013124595396220684, 0.012117050588130951, -0.001416859682649374, 0.025480274111032486, -0.005282980855554342, 0.013641624711453915, 0.008232700638473034, -0.009531903080642223, 0.009233616292476654, 0.007178755942732096, 0.03221491351723671, -0.005170295014977455, 0.013243909925222397, -0.01347590982913971, -0.02220575511455536, 0.01626654341816902, -0.017777860164642334, -0.009167331270873547, 0.014794997870922089, 0.008279100991785526, 0.0007904585800133646, 0.011427678167819977, -0.005601152777671814, 0.0031585199758410454, 0.003953950013965368, 0.016810087487101555, -0.0058066388592123985, 0.036086007952690125, 0.03635115176439285, -0.04091161489486694, 0.013986310921609402, -0.011142648756504059, -0.008749729953706264, -0.017579002305865288, -0.005700581707060337, 0.0005046009318903089, -0.029961196705698967, 0.022378098219633102, -0.01890471950173378, 0.009757274761795998, -0.027044620364904404, 0.03290428966283798, 0.018652833998203278, -0.00015183599316515028, -0.003973835613578558, -0.0075764707289636135, -0.022033412009477615, 0.02579844743013382, -0.008033842779695988, -0.00806035753339529, -0.04836214333772659, 0.007715670857578516, 0.03303685784339905, -0.01898426190018654, 0.00939270295202732, 0.0020996038801968098, 0.003887664061039686, -0.03579435124993324, 0.019209634512662888, 0.03213537111878395, -0.02943091094493866, -0.004825608804821968, -0.022364839911460876, 0.012846194207668304, 0.03955938667058945, -0.05273700878024101, -0.010890762321650982, 0.030305882915854454, -0.017738088965415955, -0.027601420879364014, 0.01167293544858694, -0.02309398539364338, 0.001416859682649374, -0.02998771145939827, -0.0023050899617373943, -0.008789501152932644, 0.013290309347212315, 0.02439318597316742, 0.004570408258587122, -0.011255334131419659, -0.019249405711889267, -0.013204137794673443, -0.009724131785333157, 0.022961413487792015, 0.002489033155143261, 0.014569626189768314, -0.020880037918686867, 0.022152725607156754, 0.008272471837699413, -0.01909032091498375, -0.012693737633526325, 0.03714657947421074, 0.016478657722473145, -0.03910864144563675, 0.03507846221327782, 0.0053194379433989525, -0.004348350688815117, -0.01898426190018654, 0.0013903453946113586, -0.017618775367736816, 0.016001399606466293, -0.015020369552075863, -0.0017632031813263893, -0.0011575163807719946, 0.04099116101861, -0.026593877002596855, 0.004404693841934204, 0.008093500509858131, -0.011812135577201843, 0.023955700919032097, 0.01879866234958172, -0.02839685045182705, -0.0045107509940862656, 0.010075447149574757, 0.011706078425049782, 0.01030744705349207, -0.011149276979267597, -0.04091161489486694, -0.007251670118421316, -0.04878637194633484, 0.010797962546348572, -0.00933967437595129, -0.04226384684443474, 0.006396582815796137, 0.032639145851135254, 0.008557501249015331, -0.02916576713323593, -0.014927569776773453, -0.01382722519338131, -0.011991106905043125, 0.01942174881696701, -0.02943091094493866, 0.010499675758183002, -0.0432979054749012, 0.022404611110687256, -0.002129432512447238, -0.00035400778870098293, 0.0072781844064593315, 0.0007332870154641569, 0.017247574403882027, -0.00947224535048008, 0.00645955465734005, 0.014330997131764889, -0.022775812074542046, -0.02038952335715294, -0.014026082120835781, 0.018029747530817986, 0.00236806133762002, -0.007649385370314121, 0.02646130509674549, -0.0007150584133341908, 0.019395234063267708, 0.06352834403514862, -0.007145612966269255, 0.015603684820234776, 0.06299805641174316, -0.008000699803233147, -0.03566177934408188, 0.03285126015543938, 0.0018062889575958252, 0.013263795524835587, 0.02480415813624859, 0.0012693736935034394, 0.0020184037275612354, -0.018560033291578293, 0.009074530564248562, -0.04944923147559166, -0.0041461787186563015, 0.008332129567861557, -0.0207209512591362, 0.010174875147640705, 0.00952527392655611, 0.009956132620573044, 0.003963892813771963, 0.00738424202427268, -0.0054950956255197525, 0.01392002496868372, -0.023226555436849594, 0.01690288819372654, 0.0002127360930899158, 0.02278907038271427, -0.00012480380246415734, -0.019209634512662888, 0.038790468126535416, 0.000799158588051796, 0.00898835901170969, 0.006121496669948101, 0.04921060428023338, -0.0043549793772399426, -0.002830405021086335, -0.012594308704137802, 0.020230436697602272, 0.031180856749415398, 0.019620606675744057, 0.025785189121961594, -0.01620025746524334, 0.0244594719260931, 0.030305882915854454, 0.08325500786304474, 0.006472811568528414, -0.008458072319626808, -0.04780534282326698, -0.002159261144697666, -0.025745417922735214, -0.036271609365940094, -0.009995903819799423, -0.01030744705349207, -0.025413988158106804, -0.022709526121616364, -0.01745968870818615, 0.0013820596504956484, 0.0009851731592789292, -0.016438886523246765, 0.020747466012835503, 0.0005091580678708851, -0.004361608065664768, -0.0056044673547148705, 0.020654665306210518, -0.0023730327375233173, 0.005780124571174383, -0.02553330361843109, 0.03271868824958801, 0.028290793299674988, -0.017366888001561165, -0.002303432673215866, -0.0003426148905418813, -0.015444599092006683, -0.004205835983157158, -0.006065153982490301, 0.00985670369118452, 0.008908815681934357, 0.009956132620573044, -0.04104418680071831, 0.0031784058082848787, 0.05300215259194374, -0.00808024313300848, 0.024592043831944466, -0.0054950956255197525, -0.006625269073992968, 0.011527106165885925, -0.03529057651758194, 0.01484802644699812, -0.018096033483743668, 0.029377881437540054, -0.01475522667169571, -0.009147444739937782, 0.012402079068124294, -0.01975317858159542, -0.0005841439124196768, 0.02146335318684578, 0.02868850901722908, 0.037756409496068954, -0.0008791158907115459, 0.016094200313091278, 0.030491484329104424, 0.03518452122807503, 0.02198038250207901, -0.013575338758528233, -0.0060717822052538395, 0.0015602027997374535, -0.021808039397001266, -0.0004909294657409191, -0.0031734344083815813]\n"
     ]
    }
   ],
   "source": [
    "# 向量检索时会把 input Embedding 之后转成向量\n",
    "from openai import OpenAI\n",
    "client = OpenAI()\n",
    "\n",
    "response = client.embeddings.create(\n",
    "    input=\"payment 服务是谁维护的？\",\n",
    "    model=\"text-embedding-3-small\"\n",
    ")\n",
    "\n",
    "print(response.data[0].embedding)"
   ]
  },
  {
   "cell_type": "code",
   "execution_count": 31,
   "metadata": {},
   "outputs": [
    {
     "name": "stdout",
     "output_type": "stream",
     "text": [
      "匹配到的运维知识库片段：\n",
      " - **交易量**: 监控每秒交易数，确保系统承载能力。\n",
      "- **响应时间**: 监控交易的平均响应时间，确保服务性能。\n",
      "- **系统负载**: 监控CPU、内存等资源使用率，避免资源瓶颈。\n",
      "\n",
      "- **交易量**: 监控每秒交易数，确保系统承载能力。\n",
      "- **响应时间**: 监控交易的平均响应时间，确保服务性能。\n",
      "- **系统负载**: 监控CPU、内存等资源使用率，避免资源瓶颈。\n",
      "\n",
      "- **问题描述**: 用户支付请求处理时间超过正常范围。\n",
      "- **可能原因**:\n",
      "- 系统资源不足\n",
      "- 数据库查询效率低下\n",
      "- 外部服务响应慢\n",
      "- **解决办法**:\n",
      "- 增加系统资源，如CPU、内存。\n",
      "- 优化数据库查询，使用索引，减少复杂查询。\n",
      "- 与外部服务提供商沟通，优化接口性能。\n",
      "\n",
      "- **问题描述**: 用户支付请求处理时间超过正常范围。\n",
      "- **可能原因**:\n",
      "- 系统资源不足\n",
      "- 数据库查询效率低下\n",
      "- 外部服务响应慢\n",
      "- **解决办法**:\n",
      "- 增加系统资源，如CPU、内存。\n",
      "- 优化数据库查询，使用索引，减少复杂查询。\n",
      "- 与外部服务提供商沟通，优化接口性能。\n",
      "\n",
      "\n",
      "LLM 回答： 根据上下文，无法确定具体负责的服务最多。所提供的信息主要集中在监控和问题解决方面，并未指明具体责任或服务数量。\n"
     ]
    }
   ],
   "source": [
    "# 使用运维知识库进行检索生成\n",
    "retriever = vectorstore.as_retriever()\n",
    "# 使用 LangChain 提供的 RAG Prompt，来源于：https://smith.langchain.com/hub/rlm/rag-prompt?organizationId=989ad331-949f-4bac-9694-660074a208a7\n",
    "\"\"\"\n",
    "这是 RAG Prompt 原文：\n",
    "\n",
    "human\n",
    "\n",
    "You are an assistant for question-answering tasks. Use the following pieces of retrieved context to answer the question. If you don't know the answer, just say that you don't know. Use three sentences maximum and keep the answer concise.\n",
    "\n",
    "Question: {question} \n",
    "\n",
    "Context: {context} \n",
    "\n",
    "Answer:\n",
    "\"\"\"\n",
    "prompt = langchain_hub.pull(\"rlm/rag-prompt\")\n",
    "\n",
    "def format_docs(docs):\n",
    "    print(\"匹配到的运维知识库片段：\\n\", \"\\n\\n\".join(doc.page_content for doc in docs))\n",
    "    return \"\\n\\n\".join(doc.page_content for doc in docs)\n",
    "\n",
    "llm = ChatOpenAI(model=\"gpt-4o-mini\")\n",
    "rag_chain = (\n",
    "    {\"context\": retriever | format_docs, \"question\": RunnablePassthrough()}\n",
    "    | prompt\n",
    "    | llm\n",
    "    | StrOutputParser()\n",
    ")\n",
    "\n",
    "# 问题将会被 Embedding 转成向量，然后再从向量数据库检索\n",
    "res = rag_chain.invoke(\"payment 服务是谁维护的？\")\n",
    "# RAG 无法回答的问题\n",
    "# res = rag_chain.invoke(\"谁负责的服务最多？\")\n",
    "print(\"\\n\\nLLM 回答：\", res)"
   ]
  }
 ],
 "metadata": {
  "kernelspec": {
   "display_name": "Python 3",
   "language": "python",
   "name": "python3"
  },
  "language_info": {
   "codemirror_mode": {
    "name": "ipython",
    "version": 3
   },
   "file_extension": ".py",
   "mimetype": "text/x-python",
   "name": "python",
   "nbconvert_exporter": "python",
   "pygments_lexer": "ipython3",
   "version": "3.12.0"
  }
 },
 "nbformat": 4,
 "nbformat_minor": 2
}
